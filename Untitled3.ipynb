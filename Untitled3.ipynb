{
 "cells": [
  {
   "cell_type": "code",
   "execution_count": 1,
   "id": "dfd31681",
   "metadata": {},
   "outputs": [
    {
     "ename": "SyntaxError",
     "evalue": "invalid syntax (Temp/ipykernel_3280/2725411643.py, line 21)",
     "output_type": "error",
     "traceback": [
      "\u001b[1;36m  File \u001b[1;32m\"C:\\Users\\HP\\AppData\\Local\\Temp/ipykernel_3280/2725411643.py\"\u001b[1;36m, line \u001b[1;32m21\u001b[0m\n\u001b[1;33m    Severly underweight=float(input(\"Enter your weight on kg: \"))\u001b[0m\n\u001b[1;37m            ^\u001b[0m\n\u001b[1;31mSyntaxError\u001b[0m\u001b[1;31m:\u001b[0m invalid syntax\n"
     ]
    }
   ],
   "source": [
    "def Height():\n",
    "    return centimeters\n",
    "def Weight():\n",
    "    return kg\n",
    "print(\"*****************Welcome To Measure Your Body Weight Lab*****************\")\n",
    "print()\n",
    "print(\"Choose BMI: \")\n",
    "print(\"1.Severly underweight\")\n",
    "print(\"2.underweight\")\n",
    "print(\"3.Healthy\")\n",
    "print(\"4.overweight\")\n",
    "print(\"5.Severly overweight\")\n",
    "print(\"6.enter valid details\")\n",
    "Height=float(input(\"Enter your height in centimeters: \"))\n",
    "Weight=float(input(\"Enter your weight on kg: \"))\n",
    "Height=Weight/100\n",
    "BMI=Weight/(Height*Height)\n",
    "print(\"your Body Mass Index is: \",BMI)\n",
    "if(BMI>0):\n",
    "    if(BMI<=16):\n",
    "        Severly underweight=float(input(\"Enter your weight on kg: \"))\n",
    "        print(\"you are severely underweight\")\n",
    "    elif(BMI<=18.5):\n",
    "        underweight=float(input(\"Enter your weight on kg: \"))\n",
    "        print(\"you are underweight\")\n",
    "    elif(BMI<=25):\n",
    "        Healthy=float(input(\"Enter your weight on kg: \"))\n",
    "        print(\"you are Healthy\")\n",
    "    elif(BMI<=30):\n",
    "        overweight=float(input(\"Enter your weight on kg: \"))\n",
    "        print(\"you are overweight\")\n",
    "    else:\n",
    "        Severly overweight=float(input(\"Enter your weight on kg: \"))\n",
    "        print(\"you are Severly overweight\")\n",
    "else:(\"enter valid details\")\n"
   ]
  },
  {
   "cell_type": "code",
   "execution_count": null,
   "id": "eb48594d",
   "metadata": {},
   "outputs": [],
   "source": []
  }
 ],
 "metadata": {
  "kernelspec": {
   "display_name": "Python 3 (ipykernel)",
   "language": "python",
   "name": "python3"
  },
  "language_info": {
   "codemirror_mode": {
    "name": "ipython",
    "version": 3
   },
   "file_extension": ".py",
   "mimetype": "text/x-python",
   "name": "python",
   "nbconvert_exporter": "python",
   "pygments_lexer": "ipython3",
   "version": "3.9.7"
  }
 },
 "nbformat": 4,
 "nbformat_minor": 5
}
