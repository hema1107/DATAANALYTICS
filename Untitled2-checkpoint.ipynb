{
 "cells": [
  {
   "cell_type": "code",
   "execution_count": 1,
   "id": "16b262c3",
   "metadata": {},
   "outputs": [
    {
     "name": "stdout",
     "output_type": "stream",
     "text": [
      "***************** Welcome to Measure your Body Weight Lab **********************\n",
      "\n",
      "Choose BMI : \n",
      "1. severely underweight\n",
      "2.underweight\n",
      "3.Healthy\n",
      "4.overweight\n",
      "5.severely overweight\n",
      "6.enter valid details\n",
      "Enter your height in centimeters: 6\n",
      "Enter your Weight in Kg: 65\n",
      "your Body Mass Index is:  18055.555555555555\n",
      "you are severely overweight\n"
     ]
    }
   ],
   "source": [
    "def Height():\n",
    "    return centimeters\n",
    "def Weight():\n",
    "    return kg\n",
    "print(\"***************** Welcome to Measure your Body Weight Lab **********************\")\n",
    "print()\n",
    "print(\"Choose BMI : \")\n",
    "print(\"1. severely underweight\")\n",
    "print(\"2.underweight\")\n",
    "print(\"3.Healthy\")\n",
    "print(\"4.overweight\")\n",
    "print(\"5.severely overweight\")\n",
    "print(\"6.enter valid details\")\n",
    "Height=float(input(\"Enter your height in centimeters: \"))\n",
    "Weight=float(input(\"Enter your Weight in Kg: \"))\n",
    "Height = Height/100\n",
    "BMI=Weight/(Height*Height)\n",
    "print(\"your Body Mass Index is: \",BMI)\n",
    "if(BMI>0):\n",
    "\tif(BMI<=16):\n",
    "\t\tprint(\"you are severely underweight\")\n",
    "\telif(BMI<=18.5):\n",
    "\t\tprint(\"you are underweight\")\n",
    "\telif(BMI<=25):\n",
    "\t\tprint(\"you are Healthy\")\n",
    "\telif(BMI<=30):\n",
    "\t\tprint(\"you are overweight\")\n",
    "\telse: print(\"you are severely overweight\")\n",
    "else:(\"enter valid details\")"
   ]
  },
  {
   "cell_type": "code",
   "execution_count": null,
   "id": "fb00664b",
   "metadata": {},
   "outputs": [],
   "source": []
  }
 ],
 "metadata": {
  "kernelspec": {
   "display_name": "Python 3 (ipykernel)",
   "language": "python",
   "name": "python3"
  },
  "language_info": {
   "codemirror_mode": {
    "name": "ipython",
    "version": 3
   },
   "file_extension": ".py",
   "mimetype": "text/x-python",
   "name": "python",
   "nbconvert_exporter": "python",
   "pygments_lexer": "ipython3",
   "version": "3.9.7"
  }
 },
 "nbformat": 4,
 "nbformat_minor": 5
}
